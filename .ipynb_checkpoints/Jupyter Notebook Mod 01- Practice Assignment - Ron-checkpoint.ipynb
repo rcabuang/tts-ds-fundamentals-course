{
 "cells": [
  {
   "cell_type": "code",
   "execution_count": 1,
   "id": "e3ed76ae",
   "metadata": {},
   "outputs": [
    {
     "name": "stdout",
     "output_type": "stream",
     "text": [
      "Enter First Name Ron\n",
      "Enter Last Name Cabuang\n",
      "Cabuang   Ron\n"
     ]
    }
   ],
   "source": [
    "# Accepts the user's first and last name and prints them in reverse order with a space between them\n",
    "\n",
    "first_name = input(\"Enter First Name: \") # gets users first name\n",
    "\n",
    "last_name = input(\"Enter Last Name: \") # gets users last name\n",
    "\n",
    "print(last_name, \" \",first_name)"
   ]
  },
  {
   "cell_type": "code",
   "execution_count": null,
   "id": "b0a53b7c",
   "metadata": {},
   "outputs": [],
   "source": []
  }
 ],
 "metadata": {
  "kernelspec": {
   "display_name": "Python 3 (ipykernel)",
   "language": "python",
   "name": "python3"
  },
  "language_info": {
   "codemirror_mode": {
    "name": "ipython",
    "version": 3
   },
   "file_extension": ".py",
   "mimetype": "text/x-python",
   "name": "python",
   "nbconvert_exporter": "python",
   "pygments_lexer": "ipython3",
   "version": "3.9.7"
  }
 },
 "nbformat": 4,
 "nbformat_minor": 5
}
