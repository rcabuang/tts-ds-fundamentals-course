{
 "cells": [
  {
   "cell_type": "markdown",
   "id": "a9d717a9",
   "metadata": {},
   "source": [
    "Exercise 1\n",
    "\n",
    "In mathematics, the quadratic equation ax2+bx+c=0 can be solved with the formula x=−b±b2−4ac√2a.\n",
    "\n",
    "Write a function solve_quadratic, that returns both solutions of a generic quadratic as a pair (2-tuple) when the coefficients are given as parameters. It should work like this:\n",
    "\n",
    "print(solve_quadratic(1,-3,2))\n",
    "\n",
    "(2.0,1.0)\n",
    "\n",
    "print(solve_quadratic(1,2,1))\n",
    "\n",
    "(-1.0,-1.0)"
   ]
  },
  {
   "cell_type": "code",
   "execution_count": 1,
   "id": "149575eb",
   "metadata": {},
   "outputs": [],
   "source": [
    "# Defining the function to solve the quadratic formula \n",
    "def solve_quadratic(a,b,c):\n",
    "    import math\n",
    "    discriminant = b ** 2 - (4*a*c) \n",
    "    # if function sees if the user inputed values will result in real roots\n",
    "    if discriminant >= 0:\n",
    "\n",
    "        x1 = (-b + math.sqrt(discriminant))/(2*a)\n",
    "        x2 = (-b - math.sqrt(discriminant))/(2*a)\n",
    "        return(x1,x2)\n",
    "    else: \n",
    "        print(\"No Real Roots\")\n",
    "        \n",
    "\n",
    "    "
   ]
  },
  {
   "cell_type": "code",
   "execution_count": 2,
   "id": "19332fb2",
   "metadata": {},
   "outputs": [
    {
     "data": {
      "text/plain": [
       "(2.0, 1.0)"
      ]
     },
     "execution_count": 2,
     "metadata": {},
     "output_type": "execute_result"
    }
   ],
   "source": [
    "solve_quadratic(1,-3,2)"
   ]
  },
  {
   "cell_type": "code",
   "execution_count": 3,
   "id": "874500eb",
   "metadata": {},
   "outputs": [
    {
     "data": {
      "text/plain": [
       "(-1.0, -1.0)"
      ]
     },
     "execution_count": 3,
     "metadata": {},
     "output_type": "execute_result"
    }
   ],
   "source": [
    "solve_quadratic(1,2,1)"
   ]
  },
  {
   "cell_type": "code",
   "execution_count": 4,
   "id": "adc20131",
   "metadata": {},
   "outputs": [
    {
     "name": "stdout",
     "output_type": "stream",
     "text": [
      "No Real Roots\n"
     ]
    }
   ],
   "source": [
    "solve_quadratic(1,-3,5)"
   ]
  },
  {
   "cell_type": "markdown",
   "id": "f28dbd7e",
   "metadata": {},
   "source": [
    "Exercise 2\n",
    "\n",
    "Get a space-separated list of integers from the user, create a tuple of those integers. Then compute and print the result of hash(tuple)."
   ]
  },
  {
   "cell_type": "code",
   "execution_count": 5,
   "id": "16472111",
   "metadata": {
    "scrolled": true
   },
   "outputs": [
    {
     "name": "stdout",
     "output_type": "stream",
     "text": [
      "Please enter a list of integers separated by a space: \n",
      "1 2\n",
      "(1, 2)\n",
      "-3550055125485641917\n"
     ]
    }
   ],
   "source": [
    "# Receive input from the user \n",
    "print(\"Please enter a list of integers separated by a space: \")\n",
    "\n",
    "# still need to understand map and split \n",
    "\n",
    "inputs = list(map(int,input().split()))\n",
    "print(tuple(inputs))\n",
    "# convert input to tuple and hash / dont really understand hash\n",
    "print(hash(tuple(inputs)))"
   ]
  },
  {
   "cell_type": "markdown",
   "id": "0ddbaee0",
   "metadata": {},
   "source": [
    "Exercise 3\n",
    "\n",
    "Take the following two lists. Create a third list by picking a odd-index elements from the first list and even-index elements from the second.\n",
    "\n",
    "listOne = [3, 6, 9, 12, 15, 18, 21]\n",
    "\n",
    "listTwo = [4, 8, 12, 16, 20, 24, 28]"
   ]
  },
  {
   "cell_type": "code",
   "execution_count": 6,
   "id": "9a89bd99",
   "metadata": {},
   "outputs": [
    {
     "name": "stdout",
     "output_type": "stream",
     "text": [
      "[6, 12, 18, 4, 12, 20, 28]\n"
     ]
    }
   ],
   "source": [
    "# the two lists \n",
    "list_one = [3, 6, 9, 12, 15, 18, 21]\n",
    "list_two = [4, 8, 12, 16, 20, 24, 28]\n",
    "\n",
    "# obtaining part 1 and part 2 of list 1 and 2 \n",
    "# slice the first list in increments of 2 starting from first odd index repeat for second list but begin in first even index\n",
    "part_one_list_3 = list_one[1::2]\n",
    "\n",
    "part_two_list_3 = list_two[0::2]\n",
    "\n",
    "print(part_one_list_3 + part_two_list_3)"
   ]
  },
  {
   "cell_type": "markdown",
   "id": "8b3c187e",
   "metadata": {},
   "source": [
    "Exercise 4\n",
    "\n",
    "Take the following list. Slice it into three equal chunks and reverse each list.\n",
    "\n",
    "sampleList = [11, 45, 8, 23, 14, 12, 78, 45, 89]"
   ]
  },
  {
   "cell_type": "code",
   "execution_count": 7,
   "id": "54b54217",
   "metadata": {},
   "outputs": [
    {
     "name": "stdout",
     "output_type": "stream",
     "text": [
      "[8, 45, 11]\n",
      "[12, 14, 23]\n",
      "[89, 45, 78]\n"
     ]
    }
   ],
   "source": [
    "\n",
    "sample_list = [11, 45, 8, 23, 14, 12, 78, 45, 89]\n",
    "\n",
    "c1 = sample_list[0:3]\n",
    "c2 = sample_list[3:6]\n",
    "c3 = sample_list[6:]\n",
    "print(c1[::-1])\n",
    "print(c2[::-1])\n",
    "print(c3[::-1])\n"
   ]
  },
  {
   "cell_type": "markdown",
   "id": "a2db3eb0",
   "metadata": {},
   "source": [
    "Exercise 5\n",
    "\n",
    "Iterate through a given list and check if a given element already exists in a dictionary as a key’s value. If not, delete it from the list.\n",
    "\n",
    "rollNumber = [47, 64, 69, 37, 76, 83, 95, 97]\n",
    "\n",
    "sampleDict ={'Zach':47, 'Emma':69, 'Kelly':76, 'Jason':97}"
   ]
  },
  {
   "cell_type": "code",
   "execution_count": 50,
   "id": "dd9e9082",
   "metadata": {},
   "outputs": [
    {
     "name": "stdout",
     "output_type": "stream",
     "text": [
      "[47, 69, 76, 97]\n",
      "47\n",
      "its here\n",
      "64\n",
      "69\n",
      "its here\n",
      "37\n",
      "76\n",
      "its here\n",
      "83\n",
      "95\n",
      "97\n",
      "its here\n",
      "[47, 69, 76, 97]\n"
     ]
    }
   ],
   "source": [
    "roll_number = [47, 64, 69, 37, 76, 83, 95, 97]\n",
    "\n",
    "sample_dict ={'Zach':47, 'Emma':69, 'Kelly':76, 'Jason':97}\n",
    "values = list(sample_dict.values())\n",
    "print(values)\n",
    "delete_list = []\n",
    "for i in roll_number:\n",
    "    print(i)\n",
    "\n",
    "    if i == values[0]:\n",
    "        \n",
    "        print(\"its here\")\n",
    "    elif i == values[1]:\n",
    "        \n",
    "        print(\"its here\")\n",
    "    elif i == values[2]:\n",
    "        \n",
    "        print(\"its here\")\n",
    "    elif i == values[3]:\n",
    "        \n",
    "        print(\"its here\")\n",
    "    else:\n",
    "        delete_list.append(i)\n",
    "\n",
    "for d in delete_list:\n",
    "    roll_number.remove(d)\n",
    "    \n",
    "print(roll_number)\n"
   ]
  }
 ],
 "metadata": {
  "kernelspec": {
   "display_name": "Python 3 (ipykernel)",
   "language": "python",
   "name": "python3"
  },
  "language_info": {
   "codemirror_mode": {
    "name": "ipython",
    "version": 3
   },
   "file_extension": ".py",
   "mimetype": "text/x-python",
   "name": "python",
   "nbconvert_exporter": "python",
   "pygments_lexer": "ipython3",
   "version": "3.9.7"
  }
 },
 "nbformat": 4,
 "nbformat_minor": 5
}
