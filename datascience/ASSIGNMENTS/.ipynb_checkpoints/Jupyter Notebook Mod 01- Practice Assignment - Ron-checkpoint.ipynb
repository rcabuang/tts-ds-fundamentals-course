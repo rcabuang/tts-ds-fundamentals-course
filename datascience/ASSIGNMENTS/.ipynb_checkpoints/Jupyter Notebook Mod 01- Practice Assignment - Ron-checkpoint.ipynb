{
 "cells": [
  {
   "cell_type": "markdown",
   "id": "ef368acc",
   "metadata": {},
   "source": [
    "1. Accept the user's first and last name and print them in reverse order with a space between them"
   ]
  },
  {
   "cell_type": "code",
   "execution_count": null,
   "id": "f2a0235b",
   "metadata": {},
   "outputs": [],
   "source": [
    "# Accepts the user's first and last name and prints them in reverse order with a space between them\n",
    "\n",
    "first_name = input(\"Enter First Name: \") # gets users first name\n",
    "\n",
    "last_name = input(\"Enter Last Name: \") # gets users last name\n",
    "\n",
    "print(last_name,first_name) # prints last name first name"
   ]
  },
  {
   "cell_type": "markdown",
   "id": "9d83292a",
   "metadata": {},
   "source": [
    "2. Accept an integer (n) input from the user and compute the value of n+nn+nnn. For example if n=4 then n + nn + nnn = 4 + 44 + 444 = 492"
   ]
  },
  {
   "cell_type": "code",
   "execution_count": 1,
   "id": "fade2bf7",
   "metadata": {},
   "outputs": [
    {
     "name": "stdout",
     "output_type": "stream",
     "text": [
      "Enter integer: 4\n",
      "492\n"
     ]
    }
   ],
   "source": [
    "# Accepts an integer (n) and computes the value of n+nn+nnn\n",
    "n = int(input(\"Enter integer: \")) # User inputs an integer\n",
    "nn = 10*n+n#finds nn\n",
    "nnn = 100*n + 10*n + n # finds nnn\n",
    "total = n+nn+nnn #sums \n",
    "print(total) #prints total"
   ]
  },
  {
   "cell_type": "markdown",
   "id": "a11a7b0b",
   "metadata": {},
   "source": [
    "3. Ask the user \"What country are you from?\" then print the following statement: \"I have heard that [input] is a beautiful country!\""
   ]
  },
  {
   "cell_type": "code",
   "execution_count": 2,
   "id": "94439201",
   "metadata": {},
   "outputs": [
    {
     "name": "stdout",
     "output_type": "stream",
     "text": [
      "What country are you from?: usa\n",
      "I have heard that usa is a beautiful country!\n"
     ]
    }
   ],
   "source": [
    "# Asks the user \"What country are you from?\" then prints the following statement: \n",
    "# \"I have heard that [input] is a beautiful country!\"\n",
    "country = input(\"What country are you from?: \") #asks user the country theyre from \n",
    "print(\"I have heard that\",country,\"is a beautiful country!\") # prints statement"
   ]
  },
  {
   "cell_type": "markdown",
   "id": "d759a5d8",
   "metadata": {},
   "source": [
    "4. What is the output of the following Python code\n",
    "\n",
    "x = 10\n",
    "y = 50\n",
    "if (x ** 2 > 100 and y < 100):\n",
    "    print(x, y)"
   ]
  },
  {
   "cell_type": "code",
   "execution_count": 5,
   "id": "cfd0f521",
   "metadata": {},
   "outputs": [],
   "source": [
    "x = 10\n",
    "y = 50\n",
    "if (x ** 2 > 100 and y < 100):\n",
    "    print(x, y)"
   ]
  },
  {
   "cell_type": "markdown",
   "id": "7b8d6e6b",
   "metadata": {},
   "source": [
    "No output since it does not pass the conditional statement. IE 100 > 100 is not true. "
   ]
  },
  {
   "cell_type": "markdown",
   "id": "f2303e57",
   "metadata": {},
   "source": [
    "5. What is the output of the following addition (+) operator, and why does this code chunk execute this way?\n",
    "\n",
    "a = [10, 20]\n",
    "b = a\n",
    "b += [30, 40]\n",
    "print(a)\n",
    "print(b)"
   ]
  },
  {
   "cell_type": "code",
   "execution_count": 8,
   "id": "673f51a0",
   "metadata": {},
   "outputs": [
    {
     "name": "stdout",
     "output_type": "stream",
     "text": [
      "[10, 20, 30, 40]\n",
      "[10, 20, 30, 40]\n"
     ]
    }
   ],
   "source": [
    "a = [10, 20]\n",
    "b = a\n",
    "b += [30, 40]\n",
    "print(a)\n",
    "print(b)"
   ]
  },
  {
   "cell_type": "markdown",
   "id": "41401a4f",
   "metadata": {},
   "source": [
    "The + operator adds the [30,40] into the list. "
   ]
  },
  {
   "cell_type": "markdown",
   "id": "982ffd73",
   "metadata": {},
   "source": [
    "6. What is the output of the following code and what arithmetic operators is being used here? print(2%6)"
   ]
  },
  {
   "cell_type": "code",
   "execution_count": 9,
   "id": "0961cbc9",
   "metadata": {},
   "outputs": [
    {
     "name": "stdout",
     "output_type": "stream",
     "text": [
      "2\n"
     ]
    }
   ],
   "source": [
    "print(2%6)"
   ]
  },
  {
   "cell_type": "markdown",
   "id": "d7a39bd8",
   "metadata": {},
   "source": [
    "The output of the code is 2. The operator used is modulus which returns the remainder of the dividend and divider. "
   ]
  },
  {
   "cell_type": "markdown",
   "id": "fc39abca",
   "metadata": {},
   "source": [
    "7. What is the output of the following code and what arithmetic operators are used here? print(2 * 3 ** 3 * 4)"
   ]
  },
  {
   "cell_type": "code",
   "execution_count": 10,
   "id": "f2973522",
   "metadata": {},
   "outputs": [
    {
     "name": "stdout",
     "output_type": "stream",
     "text": [
      "216\n"
     ]
    }
   ],
   "source": [
    "print(2 * 3 ** 3 * 4)"
   ]
  },
  {
   "cell_type": "markdown",
   "id": "e9b42917",
   "metadata": {},
   "source": [
    "The output of the code is 216. The arithmetic operators are raising to a power and multiplication. This is done using proper order of operations. "
   ]
  },
  {
   "cell_type": "markdown",
   "id": "4081307e",
   "metadata": {},
   "source": [
    "8. What is a text editor?"
   ]
  },
  {
   "cell_type": "markdown",
   "id": "6d240e96",
   "metadata": {},
   "source": [
    "A system or program that allows a user to edit text."
   ]
  },
  {
   "cell_type": "markdown",
   "id": "8786573f",
   "metadata": {},
   "source": [
    "9. What is python?"
   ]
  },
  {
   "cell_type": "markdown",
   "id": "282ec975",
   "metadata": {},
   "source": [
    "Python is an interpreted, object-oriented, high-level programming language with dynamic semantics."
   ]
  },
  {
   "cell_type": "markdown",
   "id": "6945448f",
   "metadata": {},
   "source": [
    "10. What is jupyter notebook, what type of python environment is it, and what alternatives are there to jupyter notebook?"
   ]
  },
  {
   "cell_type": "markdown",
   "id": "af6465ae",
   "metadata": {},
   "source": [
    "JupyterLab is the latest web-based interactive development environment for notebooks, code, and data. Its flexible interface allows users to configure and arrange workflows in data science, scientific computing, computational journalism, and machine learning. A modular design invites extensions to expand and enrich functionality.\n",
    "\n",
    "Alternatives include: Eclipse · PyCharm · AWS Cloud9 · Kite · Wing Python IDE · Qt · Selenium IDE · KDevelop.\n"
   ]
  }
 ],
 "metadata": {
  "kernelspec": {
   "display_name": "Python 3 (ipykernel)",
   "language": "python",
   "name": "python3"
  },
  "language_info": {
   "codemirror_mode": {
    "name": "ipython",
    "version": 3
   },
   "file_extension": ".py",
   "mimetype": "text/x-python",
   "name": "python",
   "nbconvert_exporter": "python",
   "pygments_lexer": "ipython3",
   "version": "3.9.7"
  }
 },
 "nbformat": 4,
 "nbformat_minor": 5
}
