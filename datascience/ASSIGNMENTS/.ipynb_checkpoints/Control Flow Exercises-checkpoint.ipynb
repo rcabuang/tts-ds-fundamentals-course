{
 "cells": [
  {
   "cell_type": "markdown",
   "id": "df42400d",
   "metadata": {},
   "source": [
    "Exercise 1\n",
    "\n",
    "Guess a number between 1 to 9 given by the user"
   ]
  },
  {
   "cell_type": "code",
   "execution_count": 86,
   "id": "7595d6a7",
   "metadata": {},
   "outputs": [
    {
     "name": "stdout",
     "output_type": "stream",
     "text": [
      "Please enter an integer between 1 to 9: 4\n",
      "4 is your number!\n"
     ]
    }
   ],
   "source": [
    "num = int(input(\"Please enter an integer between 1 to 9: \"))\n",
    "choices = (1,2,3,4,5,6,7,8,9)\n",
    "for i in choices: \n",
    "    if i == num:\n",
    "        print(i,\"is your number!\")"
   ]
  },
  {
   "cell_type": "markdown",
   "id": "e4c96ac6",
   "metadata": {},
   "source": [
    "Exercise 2\n",
    "\n",
    "Check the validity of password input by the user.\n",
    "\n",
    "Validation:\n",
    "\n",
    "At least 1 letter between [a-z] and 1 letter between [A-Z]\n",
    "\n",
    "At least 1 number between [0-9]\n",
    "\n",
    "At least 1 character from [$#@]\n",
    "\n",
    "Minimum length 6 characters\n",
    "\n",
    "Maximum length 16 characters"
   ]
  },
  {
   "cell_type": "code",
   "execution_count": 87,
   "id": "64f8e357",
   "metadata": {},
   "outputs": [
    {
     "name": "stdout",
     "output_type": "stream",
     "text": [
      "Please enter a password: Password12$\n",
      "Password Valid\n"
     ]
    }
   ],
   "source": [
    "# User inputs password\n",
    "password = input(\"Please enter a password: \")\n",
    "\n",
    "p_list = list(password)\n",
    "\n",
    "alpha = list(string.ascii_lowercase)\n",
    "ALPHA = list(string.ascii_uppercase)\n",
    "num = [\"0\",\"1\",\"2\",\"3\",\"4\",\"5\",\"6\",\"7\",\"8\",\"9\"]\n",
    "char = [\"$\",\"#\",\"@\"]\n",
    "\n",
    "if not 6 <= len(password) <= 16:\n",
    "    print(\"Password Length Invalid\")\n",
    "else: \n",
    "    if not any(x in p_list for x in alpha):\n",
    "        print(\"No a-z letter\")\n",
    "    elif not any(x in p_list for x in ALPHA):\n",
    "        print(\"No A-Z letter\")\n",
    "    elif not any(x in p_list for x in num):\n",
    "        print(\"No 0-9 number\")\n",
    "    elif not any(x in p_list for x in char):\n",
    "        print(\"No $, #, @\")\n",
    "    else: \n",
    "        print(\"Password Valid\")"
   ]
  },
  {
   "cell_type": "markdown",
   "id": "743c64a3",
   "metadata": {},
   "source": [
    "Exercise 3\n",
    "\n",
    "Get input of the age of 3 people by user and determine oldest and youngest among them"
   ]
  },
  {
   "cell_type": "code",
   "execution_count": 88,
   "id": "65a30a42",
   "metadata": {},
   "outputs": [
    {
     "name": "stdout",
     "output_type": "stream",
     "text": [
      "Enter First Person's Age : 34\n",
      "Enter Second Person's Age : 12\n",
      "Enter Third Person's Age : 653\n",
      "Oldest person is: 653\n",
      "Youngest person is: 12\n"
     ]
    }
   ],
   "source": [
    "person1 = int(input(\"Enter First Person's Age : \"))\n",
    "person2 = int(input(\"Enter Second Person's Age : \"))\n",
    "person3 = int(input(\"Enter Third Person's Age : \"))\n",
    "\n",
    "people = [person1,person2,person3]\n",
    "\n",
    "ppl_sort = sorted(people)\n",
    "\n",
    "print(\"Oldest person is:\",ppl_sort[2])\n",
    "print(\"Youngest person is:\",ppl_sort[0])"
   ]
  },
  {
   "cell_type": "markdown",
   "id": "3907908c",
   "metadata": {},
   "source": [
    "Exercise 4\n",
    "\n",
    "A student will not be allowed to sit in exam if his/her attendance is less than 75%.\n",
    "\n",
    "Take following input from user\n",
    "\n",
    "Number of classes held\n",
    "\n",
    "Number of classes attended.\n",
    "\n",
    "And print\n",
    "\n",
    "percentage of class attended\n",
    "\n",
    "Is student is allowed to sit in exam or not?"
   ]
  },
  {
   "cell_type": "code",
   "execution_count": 89,
   "id": "e99d9ffc",
   "metadata": {},
   "outputs": [
    {
     "name": "stdout",
     "output_type": "stream",
     "text": [
      "Enter number of classes: 10\n",
      "Enter classes attended: 5\n",
      "Percentage of classes attended: 50 %\n",
      "Student cannot sit in the exam\n"
     ]
    }
   ],
   "source": [
    "class_num = int(input(\"Enter number of classes: \"))\n",
    "att = int(input(\"Enter classes attended: \"))\n",
    " \n",
    "percentage = att/class_num *100\n",
    "\n",
    "print(\"Percentage of classes attended:\",round(percentage),\"%\")\n",
    "if percentage >= 75:\n",
    "    print(\"Student can sit in exam\")\n",
    "else:\n",
    "    print(\"Student cannot sit in the exam\")"
   ]
  },
  {
   "cell_type": "markdown",
   "id": "1ee22e40",
   "metadata": {},
   "source": [
    "Exercise 5\n",
    "\n",
    "Get an integer N from the user and perform the following actions:\n",
    "\n",
    "if N is odd, print \"weird\"\n",
    "\n",
    "if N is even and in the inclusive range of 2 to 5, print \"Not Weird\"\n",
    "\n",
    "if N is even and in the inclusive range of 6 to 20, print \"Weird\"\n",
    "\n",
    "if N is even and greater than 20, print \"Not Weird\""
   ]
  },
  {
   "cell_type": "code",
   "execution_count": 90,
   "id": "30cdc618",
   "metadata": {},
   "outputs": [
    {
     "name": "stdout",
     "output_type": "stream",
     "text": [
      "Please enter an integer: 44\n",
      "Not Weird\n"
     ]
    }
   ],
   "source": [
    "N = int(input(\"Please enter an integer: \"))\n",
    "\n",
    "if N % 2 == 1:\n",
    "    print(\"weird\")\n",
    "elif N % 2 == 0 and 2 <= N <= 5:\n",
    "    print(\"Not Weird\")\n",
    "elif N % 2 == 0 and 6 <= N <= 20: \n",
    "    print(\"Weird\")\n",
    "elif N % 2 == 0 and N > 20:\n",
    "    print(\"Not Weird\")\n",
    "    \n",
    "    \n"
   ]
  },
  {
   "cell_type": "code",
   "execution_count": null,
   "id": "00a06a35",
   "metadata": {},
   "outputs": [],
   "source": []
  }
 ],
 "metadata": {
  "kernelspec": {
   "display_name": "Python 3 (ipykernel)",
   "language": "python",
   "name": "python3"
  },
  "language_info": {
   "codemirror_mode": {
    "name": "ipython",
    "version": 3
   },
   "file_extension": ".py",
   "mimetype": "text/x-python",
   "name": "python",
   "nbconvert_exporter": "python",
   "pygments_lexer": "ipython3",
   "version": "3.9.7"
  }
 },
 "nbformat": 4,
 "nbformat_minor": 5
}
