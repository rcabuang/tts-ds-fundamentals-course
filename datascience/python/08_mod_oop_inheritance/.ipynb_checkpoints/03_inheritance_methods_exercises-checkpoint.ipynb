{
 "cells": [
  {
   "cell_type": "markdown",
   "metadata": {},
   "source": [
    "Data Science Fundamentals: Python |\n",
    "[Table of Contents](../index.ipynb)\n",
    "- - - \n",
    "<!--NAVIGATION-->\n",
    "Module 8. | [Inheritance & Methods](./01_oop_inheritance.ipynb) | [Sequences, Iterables, Generators Revisited](02_revisited.ipynb) | **[Exercises](./03_inheritance_methods_exercises.ipynb)**"
   ]
  },
  {
   "cell_type": "markdown",
   "metadata": {},
   "source": [
    "# Module 8: Practice Exercises"
   ]
  },
  {
   "cell_type": "markdown",
   "metadata": {},
   "source": [
    "## Exercise 1. "
   ]
  },
  {
   "cell_type": "markdown",
   "metadata": {},
   "source": [
    "You are given two classes, Person and Student, where Person is the base class and Student is the derived class. Completed code for Person and a declaration for Student are provided for you in the editor. Observe that Student inherits all the properties of Person.\n",
    "\n",
    "Complete the Student class by writing the following:\n",
    "\n",
    "A Student class constructor, which has 4 parameters:\n",
    "\n",
    "- A string, firstName\n",
    "\n",
    "- A string, lastName\n",
    "\n",
    "- An integer, id\n",
    "\n",
    "- An integer array (or vector) of test scores, scores\n",
    "\n",
    "A char **calculate()** method that calculates a Student object's average and returns the grade character representative of their calculated average:\n",
    "```\n",
    "A | 90-100\n",
    "B | 80-89\n",
    "C | 70-79\n",
    "D | 60-69\n",
    "F | <60\n",
    "```"
   ]
  },
  {
   "cell_type": "code",
   "execution_count": 32,
   "metadata": {},
   "outputs": [],
   "source": [
    "# define the Vehicle class\n",
    "\n",
    "class Person:\n",
    "    def __init__(self,firstname, lastname):\n",
    "        self.fname = firstname\n",
    "        self.lname = lastname\n",
    "    def desc(self):\n",
    "        desc_person = \"%s %s is a person.\" % (self.fname, self.lname)\n",
    "        return desc_person\n",
    "\n",
    "class Student(Person):\n",
    "    def __init__(self, firstname, lastname, ID, test_scores):\n",
    "        super().__init__(firstname, lastname)\n",
    "        self.id = ID  \n",
    "        self.test_scores = [int(i) for i in test_scores.split()]\n",
    "        \n",
    "        self.average = sum(self.test_scores)/len(self.test_scores)\n",
    "        if self.average < 60: \n",
    "            self.grade = \"F\"\n",
    "        elif 60 <= self.average < 70: \n",
    "            self.grade = \"D\"\n",
    "        elif 70 <= self.average < 80: \n",
    "            self.grade = \"C\"\n",
    "        elif 80 <= self.average < 90: \n",
    "            self.grade = \"B\"\n",
    "        elif 90 <= self.average <= 100: \n",
    "            self.grade = \"A\"\n",
    "        \n",
    "        \n",
    "    def desc(self):\n",
    "        desc_person = \"%s %s is a student. Student ID %i. Their grade: %s .\" % (self.fname, self.lname,self.id,self.grade)\n",
    "        return desc_person\n",
    "        \n",
    "class Grades(Student):\n",
    "      def desc(self):\n",
    "           desc_person = \"%s %s has grades.\" % (self.fname, self.lname)\n",
    "           return desc_person\n",
    "\n"
   ]
  },
  {
   "cell_type": "code",
   "execution_count": 33,
   "metadata": {},
   "outputs": [
    {
     "data": {
      "text/plain": [
       "[1, 2, 3]"
      ]
     },
     "execution_count": 33,
     "metadata": {},
     "output_type": "execute_result"
    }
   ],
   "source": [
    "person1 = Person(\"gary\",\"jackson\")\n",
    "person1.fname\n",
    "student1 = Student(\"first\", \"last\", 4, \"1 2 3\")\n",
    "student1.id\n",
    "student1.test_scores\n"
   ]
  },
  {
   "cell_type": "code",
   "execution_count": null,
   "metadata": {},
   "outputs": [],
   "source": [
    "firstname = input(\"First Name: \")\n",
    "lastname = input(\"Last Name: \")\n",
    "ID = int(input(\"ID: \"))\n",
    "test_scores = input(\"Enter a list of grades separated by a space: \")\n",
    "student1 = Student(firstname,lastname,ID,test_scores)\n",
    "student1.desc()\n"
   ]
  }
 ],
 "metadata": {
  "kernelspec": {
   "display_name": "Python 3 (ipykernel)",
   "language": "python",
   "name": "python3"
  },
  "language_info": {
   "codemirror_mode": {
    "name": "ipython",
    "version": 3
   },
   "file_extension": ".py",
   "mimetype": "text/x-python",
   "name": "python",
   "nbconvert_exporter": "python",
   "pygments_lexer": "ipython3",
   "version": "3.9.7"
  }
 },
 "nbformat": 4,
 "nbformat_minor": 4
}
