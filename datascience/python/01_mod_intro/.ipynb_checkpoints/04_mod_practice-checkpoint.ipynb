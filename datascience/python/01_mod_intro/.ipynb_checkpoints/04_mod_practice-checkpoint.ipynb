{
 "cells": [
  {
   "cell_type": "markdown",
   "metadata": {},
   "source": [
    "Data Science Fundamentals: Python |\n",
    "[Table of Contents](../index.ipynb)\n",
    "- - - \n",
    "<!--NAVIGATION-->\n",
    "Module 1. [Basic Python Syntax](./01_mod_python_syntax.ipynb) | [Variables and Objects](./02_python_variables_objects.ipynb) | [Operators](./03_python_operators.ipynb) | **[Exercises](./04_mod_practice.ipynb)**"
   ]
  },
  {
   "cell_type": "markdown",
   "metadata": {},
   "source": [
    "# Module 1: Practice Exercises"
   ]
  },
  {
   "cell_type": "markdown",
   "metadata": {},
   "source": [
    "1. Accept the user's first and last name and print them in reverse order with a space between them"
   ]
  },
  {
   "cell_type": "code",
   "execution_count": 1,
   "metadata": {},
   "outputs": [
    {
     "name": "stdout",
     "output_type": "stream",
     "text": [
      "Enter First Name: ron\n",
      "Enter Last Name: cabuang\n",
      "cabuang ron\n"
     ]
    }
   ],
   "source": [
    "# Accepts the user's first and last name and prints them in reverse order with a space between them\n",
    "\n",
    "first_name = input(\"Enter First Name: \") # gets users first name\n",
    "\n",
    "last_name = input(\"Enter Last Name: \") # gets users last name\n",
    "\n",
    "print(last_name,first_name) # prints last name first name"
   ]
  },
  {
   "cell_type": "markdown",
   "metadata": {},
   "source": [
    "2. Accept an integer (n) and compute the value of n+nn+nnn"
   ]
  },
  {
   "cell_type": "code",
   "execution_count": 10,
   "metadata": {},
   "outputs": [
    {
     "name": "stdout",
     "output_type": "stream",
     "text": [
      "Enter integer: 4\n",
      "492\n"
     ]
    }
   ],
   "source": [
    "# Accepts an integer (n) and computes the value of n+nn+nnn\n",
    "n = int(input(\"Enter integer: \")) # User inputs an integer\n",
    "nn = 10*n+n#finds nn\n",
    "nnn = 100*n + 10*n + n # finds nnn\n",
    "total = n+nn+nnn #sums \n",
    "print(total) #prints total\n"
   ]
  },
  {
   "cell_type": "markdown",
   "metadata": {},
   "source": [
    "3. Ask the user \"What country are you from?\" then print the following statement: \"I have heard that [input] is a beautiful country!\""
   ]
  },
  {
   "cell_type": "code",
   "execution_count": 7,
   "metadata": {},
   "outputs": [
    {
     "name": "stdout",
     "output_type": "stream",
     "text": [
      "What country are you from?: America\n",
      "I have heard that America is a beautiful country!\n"
     ]
    }
   ],
   "source": [
    "# Asks the user \"What country are you from?\" then prints the following statement: \n",
    "# \"I have heard that [input] is a beautiful country!\"\n",
    "country = input(\"What country are you from?: \") #asks user the country theyre from \n",
    "print(\"I have heard that\",country,\"is a beautiful country!\") # prints statement"
   ]
  },
  {
   "cell_type": "markdown",
   "metadata": {},
   "source": [
    "4. Write a for loop that multiplies the number 4 by all the integers from 0 to 10 and prints the following for each: \"4 multiplied by [i] is [x]\" "
   ]
  },
  {
   "cell_type": "code",
   "execution_count": 4,
   "metadata": {},
   "outputs": [
    {
     "name": "stdout",
     "output_type": "stream",
     "text": [
      "4 multiplied by 0 is 0\n",
      "4 multiplied by 1 is 4\n",
      "4 multiplied by 2 is 8\n",
      "4 multiplied by 3 is 12\n",
      "4 multiplied by 4 is 16\n",
      "4 multiplied by 5 is 20\n",
      "4 multiplied by 6 is 24\n",
      "4 multiplied by 7 is 28\n",
      "4 multiplied by 8 is 32\n",
      "4 multiplied by 9 is 36\n",
      "4 multiplied by 10 is 40\n"
     ]
    }
   ],
   "source": [
    "# Writes a for loop that multiplies the number 4 by all the integers from 0 to 10 and prints the following for each: \n",
    "# \"4 multiplied by [i] is [x]\"\n",
    "for numbers in range(11): # for loop iterating thru 0 -10 \n",
    "    product = (4*numbers) # multiplacation operation\n",
    "    print(\"4 multiplied by\",numbers,\"is\",product) # prints statement\n"
   ]
  },
  {
   "cell_type": "markdown",
   "metadata": {},
   "source": [
    "5. Print a multiplication table that matches the following. Use two nested for loops to achieve this."
   ]
  },
  {
   "cell_type": "markdown",
   "metadata": {},
   "source": [
    "<img src=\"files/table.png\">"
   ]
  },
  {
   "cell_type": "code",
   "execution_count": 11,
   "metadata": {},
   "outputs": [
    {
     "name": "stdout",
     "output_type": "stream",
     "text": [
      "1 2 3 4 5 6 7 8 9 10 \n",
      "\n",
      "2 4 6 8 10 12 14 16 18 20 \n",
      "\n",
      "3 6 9 12 15 18 21 24 27 30 \n",
      "\n",
      "4 8 12 16 20 24 28 32 36 40 \n",
      "\n",
      "5 10 15 20 25 30 35 40 45 50 \n",
      "\n",
      "6 12 18 24 30 36 42 48 54 60 \n",
      "\n",
      "7 14 21 28 35 42 49 56 63 70 \n",
      "\n",
      "8 16 24 32 40 48 56 64 72 80 \n",
      "\n",
      "9 18 27 36 45 54 63 72 81 90 \n",
      "\n",
      "10 20 30 40 50 60 70 80 90 100 \n",
      "\n"
     ]
    }
   ],
   "source": [
    "integers1 = (1,2,3,4,5,6,7,8,9,10)\n",
    "for x in integers1:\n",
    "    integers2 = (1,2,3,4,5,6,7,8,9,10)\n",
    "    for y in integers2:\n",
    "        product = x * y \n",
    "        print(product, end = ' ')\n",
    "    print(\"\\n\")\n",
    "    "
   ]
  },
  {
   "cell_type": "markdown",
   "metadata": {},
   "source": [
    "6. Is a String Immutable in Python?"
   ]
  },
  {
   "cell_type": "markdown",
   "metadata": {},
   "source": [
    "7. What is the output of x AND explain why that is the output for:"
   ]
  },
  {
   "cell_type": "raw",
   "metadata": {},
   "source": [
    "x = 36 / 4 * (3 +  2) * 4 + 2"
   ]
  },
  {
   "cell_type": "markdown",
   "metadata": {},
   "source": [
    "<!--NAVIGATION-->\n",
    "Module 1. [Basic Python Syntax](./01_mod_python_syntax.ipynb) | [Variables and Objects](./02_python_variables_objects.ipynb) | [Operators](./03_python_operators.ipynb) | **[Practice](./04_mod_practice.ipynb)**\n",
    "<br>\n",
    "[top](#)"
   ]
  },
  {
   "cell_type": "markdown",
   "metadata": {},
   "source": [
    "- - -\n",
    "\n",
    "Copyright © 2020 Qualex Consulting Services Incorporated."
   ]
  }
 ],
 "metadata": {
  "kernelspec": {
   "display_name": "Python 3 (ipykernel)",
   "language": "python",
   "name": "python3"
  },
  "language_info": {
   "codemirror_mode": {
    "name": "ipython",
    "version": 3
   },
   "file_extension": ".py",
   "mimetype": "text/x-python",
   "name": "python",
   "nbconvert_exporter": "python",
   "pygments_lexer": "ipython3",
   "version": "3.9.7"
  }
 },
 "nbformat": 4,
 "nbformat_minor": 4
}
