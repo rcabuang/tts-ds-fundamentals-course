{
 "cells": [
  {
   "cell_type": "code",
   "execution_count": 4,
   "id": "6a25a2ff",
   "metadata": {},
   "outputs": [],
   "source": [
    "# variable setting \n",
    "x = 4 "
   ]
  },
  {
   "cell_type": "code",
   "execution_count": 5,
   "id": "d9866127",
   "metadata": {},
   "outputs": [],
   "source": [
    "y = 5"
   ]
  },
  {
   "cell_type": "code",
   "execution_count": 6,
   "id": "0cb73d4e",
   "metadata": {},
   "outputs": [
    {
     "name": "stdout",
     "output_type": "stream",
     "text": [
      "9\n"
     ]
    }
   ],
   "source": [
    "print(x+y)"
   ]
  },
  {
   "cell_type": "code",
   "execution_count": 7,
   "id": "c0a1c6a2",
   "metadata": {},
   "outputs": [],
   "source": [
    "# this ia comment \n",
    "# comments are unexecutable "
   ]
  },
  {
   "cell_type": "code",
   "execution_count": 8,
   "id": "703f041a",
   "metadata": {},
   "outputs": [],
   "source": [
    "# this is a multi line comment \n",
    "\n"
   ]
  },
  {
   "cell_type": "code",
   "execution_count": null,
   "id": "ef09737c",
   "metadata": {},
   "outputs": [],
   "source": []
  },
  {
   "cell_type": "code",
   "execution_count": 9,
   "id": "193647c0",
   "metadata": {},
   "outputs": [],
   "source": [
    "# What is a list \n",
    " # indexable\n",
    "    # Slice able\n",
    "    # mutable\n",
    "x = [1,2,3,4,5]"
   ]
  },
  {
   "cell_type": "code",
   "execution_count": 10,
   "id": "799a8aed",
   "metadata": {},
   "outputs": [
    {
     "name": "stdout",
     "output_type": "stream",
     "text": [
      "1\n"
     ]
    }
   ],
   "source": [
    "# index notation \n",
    "print(x[0])"
   ]
  },
  {
   "cell_type": "code",
   "execution_count": 11,
   "id": "a89b79e4",
   "metadata": {},
   "outputs": [
    {
     "name": "stdout",
     "output_type": "stream",
     "text": [
      "[1, 2, 3]\n",
      "[4, 5]\n"
     ]
    }
   ],
   "source": [
    "# slicing \n",
    "# index notation \n",
    "# first number is inclusive \n",
    "# second number is exclusive\n",
    "print (x[0:3])\n",
    "\n",
    "# negative indexing \n",
    "print(x[-2:])"
   ]
  },
  {
   "cell_type": "code",
   "execution_count": null,
   "id": "f6669586",
   "metadata": {},
   "outputs": [],
   "source": []
  },
  {
   "cell_type": "code",
   "execution_count": 12,
   "id": "5971929a",
   "metadata": {},
   "outputs": [
    {
     "name": "stdout",
     "output_type": "stream",
     "text": [
      "1\n",
      "2\n",
      "3\n",
      "4\n",
      "5\n"
     ]
    }
   ],
   "source": [
    "# for loop\n",
    "# for loops are used to iterate over data structures \n",
    "# for each item in x (which is alist print each item)\n",
    "for i in x: \n",
    "    print(i)\n",
    "    "
   ]
  },
  {
   "cell_type": "code",
   "execution_count": 13,
   "id": "91328474",
   "metadata": {},
   "outputs": [
    {
     "name": "stdout",
     "output_type": "stream",
     "text": [
      "nevermind\n",
      "4\n"
     ]
    }
   ],
   "source": [
    "x = 4\n",
    "# if is a conditional statement\n",
    "if x < 4: \n",
    "    y = x * 2 \n",
    "    print(x)\n",
    "\n",
    "#indentation matters \n",
    "if x > 4: \n",
    "    y = x * 2\n",
    "elif x < 4:\n",
    "    y = x/2\n",
    "else: \n",
    "    print(\"nevermind\")\n",
    "print(x)"
   ]
  },
  {
   "cell_type": "code",
   "execution_count": 17,
   "id": "954f4674",
   "metadata": {},
   "outputs": [
    {
     "name": "stdout",
     "output_type": "stream",
     "text": [
      "True\n",
      "False\n"
     ]
    }
   ],
   "source": [
    "# == equals\n",
    "# != not equal \n",
    "\n",
    "t = 4\n",
    "print(t == 4)\n",
    "f = 2\n",
    "print(f != 2)"
   ]
  },
  {
   "cell_type": "code",
   "execution_count": 18,
   "id": "bbfe63be",
   "metadata": {},
   "outputs": [
    {
     "name": "stdout",
     "output_type": "stream",
     "text": [
      "[1, 2, 3, 4]\n"
     ]
    }
   ],
   "source": [
    "L = [4,2,3,1]\n",
    "L.sort()\n",
    "print(L)"
   ]
  },
  {
   "cell_type": "raw",
   "id": "e7f867ba",
   "metadata": {},
   "source": []
  }
 ],
 "metadata": {
  "kernelspec": {
   "display_name": "Python 3 (ipykernel)",
   "language": "python",
   "name": "python3"
  },
  "language_info": {
   "codemirror_mode": {
    "name": "ipython",
    "version": 3
   },
   "file_extension": ".py",
   "mimetype": "text/x-python",
   "name": "python",
   "nbconvert_exporter": "python",
   "pygments_lexer": "ipython3",
   "version": "3.9.7"
  }
 },
 "nbformat": 4,
 "nbformat_minor": 5
}
