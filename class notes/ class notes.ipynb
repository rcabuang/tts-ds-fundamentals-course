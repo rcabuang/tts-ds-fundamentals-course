{
 "cells": [
  {
   "cell_type": "markdown",
   "id": "562a15ca",
   "metadata": {},
   "source": [
    "## 7/12/22 Class\n"
   ]
  },
  {
   "cell_type": "code",
   "execution_count": 5,
   "id": "44a36d30",
   "metadata": {},
   "outputs": [
    {
     "name": "stdout",
     "output_type": "stream",
     "text": [
      "True\n"
     ]
    }
   ],
   "source": [
    "if 5 < 6:\n",
    "    print(True)"
   ]
  },
  {
   "cell_type": "code",
   "execution_count": 6,
   "id": "6a93e7af",
   "metadata": {},
   "outputs": [
    {
     "data": {
      "text/plain": [
       "'STRING'"
      ]
     },
     "execution_count": 6,
     "metadata": {},
     "output_type": "execute_result"
    }
   ],
   "source": [
    "fox = \"string\"\n",
    "fox.upper()\n"
   ]
  },
  {
   "cell_type": "code",
   "execution_count": 7,
   "id": "01c89558",
   "metadata": {},
   "outputs": [
    {
     "name": "stdout",
     "output_type": "stream",
     "text": [
      "string\n"
     ]
    }
   ],
   "source": [
    "print(fox)\n"
   ]
  },
  {
   "cell_type": "code",
   "execution_count": 10,
   "id": "c72f833e",
   "metadata": {},
   "outputs": [
    {
     "data": {
      "text/plain": [
       "1"
      ]
     },
     "execution_count": 10,
     "metadata": {},
     "output_type": "execute_result"
    }
   ],
   "source": [
    "fox.find('t')"
   ]
  },
  {
   "cell_type": "code",
   "execution_count": null,
   "id": "d266ff81",
   "metadata": {},
   "outputs": [],
   "source": []
  },
  {
   "cell_type": "markdown",
   "id": "33e63f9a",
   "metadata": {},
   "source": [
    "# 7/19/22 Class"
   ]
  },
  {
   "cell_type": "code",
   "execution_count": 18,
   "id": "c091f230",
   "metadata": {},
   "outputs": [],
   "source": [
    "# Object Oriented Programing \n",
    "# variables / oop - fields\n",
    "# function / oop - methods \n",
    "# class - template for an object /blueprint \n",
    "# instantiation - instantiate - create an object from a class "
   ]
  },
  {
   "cell_type": "code",
   "execution_count": 23,
   "id": "6ea17e16",
   "metadata": {},
   "outputs": [],
   "source": [
    "# this is a constructor - def __init__ \n",
    "# the constructor tells us how to create an instance (object) of a class \n",
    "class Dog: \n",
    "    def __init__(self,breed,age,gender):\n",
    "        self.breed = breed\n",
    "        self.age = age\n",
    "        self.gender = gender \n",
    "        \n",
    "    def roll_over(self):\n",
    "        print(\"The dog rolls over\")"
   ]
  },
  {
   "cell_type": "code",
   "execution_count": 24,
   "id": "b984e342",
   "metadata": {},
   "outputs": [],
   "source": [
    "# instatiated a dog object \n",
    "terrier_one = Dog(\"terrier\",\"12\",\"F\")"
   ]
  },
  {
   "cell_type": "code",
   "execution_count": 25,
   "id": "e0960818",
   "metadata": {},
   "outputs": [
    {
     "data": {
      "text/plain": [
       "'F'"
      ]
     },
     "execution_count": 25,
     "metadata": {},
     "output_type": "execute_result"
    }
   ],
   "source": [
    "# terrier_one is an instance of the dog class \n",
    "terrier_one.gender"
   ]
  },
  {
   "cell_type": "code",
   "execution_count": 26,
   "id": "f5c05fab",
   "metadata": {},
   "outputs": [
    {
     "name": "stdout",
     "output_type": "stream",
     "text": [
      "The dog rolls over\n"
     ]
    }
   ],
   "source": [
    "terrier_one.roll_over()\n"
   ]
  },
  {
   "cell_type": "code",
   "execution_count": 6,
   "id": "69374a46",
   "metadata": {
    "scrolled": true
   },
   "outputs": [
    {
     "name": "stdout",
     "output_type": "stream",
     "text": [
      "1\n",
      "&& \n",
      "&& \n"
     ]
    }
   ],
   "source": [
    "import re\n",
    "\n",
    "n = int(input())\n",
    "\n",
    "for i in range(n):\n",
    "    print(re.sub(r\"(?<= )(&&|\\|\\|)(?= )\", lambda x: \"and\" if x.group() == \"&&\" else \"or\", input()))\n",
    "    "
   ]
  },
  {
   "cell_type": "code",
   "execution_count": 14,
   "id": "498e6c6d",
   "metadata": {},
   "outputs": [
    {
     "name": "stdout",
     "output_type": "stream",
     "text": [
      "<re.Match object; span=(0, 1), match='<'>\n"
     ]
    }
   ],
   "source": [
    "import re\n",
    "n = 1\n",
    "\n",
    "x = \"todd <To9.@gmail.com>\"\n",
    "for i in range(n):\n",
    "    name, email = x.split(\" \") \n",
    "    # m = re.match(r\"<^[A-Za-z]*[\\w|-|\\.|_]+@[A-Za-z]+\\.[A-Za-z]{1,3}>\", email)\n",
    "    m = re.search(r\"[\\<]\",email)\n",
    "    print(m)\n"
   ]
  },
  {
   "cell_type": "code",
   "execution_count": 21,
   "id": "4faec024",
   "metadata": {},
   "outputs": [
    {
     "name": "stdout",
     "output_type": "stream",
     "text": [
      "2 1\n",
      "5 6\n",
      "7.00+7.00i\n",
      "-3.00-5.00i\n",
      "4.00+17.00i\n",
      "0.26-0.11i\n",
      "2.24+0.00i\n",
      "7.81+0.00i\n"
     ]
    }
   ],
   "source": [
    "import math\n",
    "\n",
    "class Complex(object):\n",
    "    def __init__(self, real, imaginary):\n",
    "        self.real = real\n",
    "        self.imaginary = imaginary\n",
    "\n",
    "    def __add__(self, no):\n",
    "        real = self.real + no.real\n",
    "        imaginary = self.imaginary + no.imaginary\n",
    "        return Complex(real, imaginary)\n",
    "\n",
    "    def __sub__(self, no):\n",
    "        real = self.real - no.real\n",
    "        imaginary = self.imaginary - no.imaginary\n",
    "        return Complex(real, imaginary)\n",
    "\n",
    "    def __mul__(self, no):\n",
    "        real = self.real * no.real - self.imaginary * no.imaginary\n",
    "        imaginary = self.real * no.imaginary + self.imaginary * no.real\n",
    "        return Complex(real, imaginary)\n",
    "\n",
    "    def __truediv__(self, no):\n",
    "        x = float(no.real ** 2 + no.imaginary ** 2)\n",
    "        y = self * Complex(no.real, -no.imaginary)\n",
    "        real = y.real / x\n",
    "        imaginary = y.imaginary / x\n",
    "        return Complex(real, imaginary)\n",
    "\n",
    "    def mod(self):\n",
    "        real = math.sqrt(self.real ** 2 + self.imaginary ** 2)\n",
    "        return Complex(real, 0)\n",
    "\n",
    "    def __str__(self):\n",
    "        if self.imaginary == 0:\n",
    "            result = \"%.2f+0.00i\" % (self.real)\n",
    "        elif self.real == 0:\n",
    "            if self.imaginary >= 0:\n",
    "                result = \"0.00+%.2fi\" % (self.imaginary)\n",
    "            else:\n",
    "                result = \"0.00-%.2fi\" % (abs(self.imaginary))\n",
    "        elif self.imaginary > 0:\n",
    "            result = \"%.2f+%.2fi\" % (self.real, self.imaginary)\n",
    "        else:\n",
    "            result = \"%.2f-%.2fi\" % (self.real, abs(self.imaginary))\n",
    "        return result\n",
    "\n",
    "\n",
    "C = map(float, input().split())\n",
    "D = map(float, input().split())\n",
    "x = Complex(*C)\n",
    "y = Complex(*D)\n",
    "print ('\\n'.join(map(str, [x+y, x-y, x*y, x/y, x.mod(), y.mod()])))\n",
    "\n",
    "\n"
   ]
  },
  {
   "cell_type": "markdown",
   "id": "8672de22",
   "metadata": {},
   "source": [
    "# 7_26_22"
   ]
  },
  {
   "cell_type": "code",
   "execution_count": 1,
   "id": "99bb642d",
   "metadata": {},
   "outputs": [],
   "source": [
    "# assignment operator \n",
    "x = 1 "
   ]
  },
  {
   "cell_type": "code",
   "execution_count": 2,
   "id": "c84172c4",
   "metadata": {},
   "outputs": [
    {
     "data": {
      "text/plain": [
       "1"
      ]
     },
     "execution_count": 2,
     "metadata": {},
     "output_type": "execute_result"
    }
   ],
   "source": [
    "x"
   ]
  },
  {
   "cell_type": "code",
   "execution_count": 3,
   "id": "917c6318",
   "metadata": {},
   "outputs": [
    {
     "data": {
      "text/plain": [
       "True"
      ]
     },
     "execution_count": 3,
     "metadata": {},
     "output_type": "execute_result"
    }
   ],
   "source": [
    "1 # integer \n",
    "1.093098 # float \n",
    "True # Boolean \n"
   ]
  },
  {
   "cell_type": "code",
   "execution_count": 5,
   "id": "d548100b",
   "metadata": {},
   "outputs": [
    {
     "name": "stdout",
     "output_type": "stream",
     "text": [
      "y is less than x\n"
     ]
    }
   ],
   "source": [
    "# control flow \n",
    "x = 42 \n",
    "y = 11 \n",
    "\n",
    "if y < x: \n",
    "    print(\"y is less than x\")\n",
    "elif y > x:\n",
    "    print(\"y is greater than x\")\n",
    "else: \n",
    "    print(\"they equal\")"
   ]
  },
  {
   "cell_type": "code",
   "execution_count": 28,
   "id": "6c6ee604",
   "metadata": {},
   "outputs": [],
   "source": [
    "def even(start, n):\n",
    "    x = []\n",
    "    if start % 2 == 0: \n",
    "        y = start\n",
    "    else: \n",
    "        y = start + 1 \n",
    "    for i in range(n):\n",
    "        x.append(y)\n",
    "        y += 2 \n",
    "        \n",
    "    return x \n",
    "        "
   ]
  },
  {
   "cell_type": "code",
   "execution_count": 31,
   "id": "928972fa",
   "metadata": {},
   "outputs": [
    {
     "data": {
      "text/plain": [
       "[4, 6, 8, 10]"
      ]
     },
     "execution_count": 31,
     "metadata": {},
     "output_type": "execute_result"
    }
   ],
   "source": [
    "even(3,4)"
   ]
  },
  {
   "cell_type": "code",
   "execution_count": 5,
   "id": "a08b0f1f",
   "metadata": {},
   "outputs": [
    {
     "data": {
      "text/plain": [
       "range(0, 4)"
      ]
     },
     "execution_count": 5,
     "metadata": {},
     "output_type": "execute_result"
    }
   ],
   "source": [
    "range(4)"
   ]
  },
  {
   "cell_type": "raw",
   "id": "bb979b82",
   "metadata": {},
   "source": []
  },
  {
   "cell_type": "code",
   "execution_count": 6,
   "id": "096f1cf0",
   "metadata": {},
   "outputs": [
    {
     "ename": "NameError",
     "evalue": "name 'l' is not defined",
     "output_type": "error",
     "traceback": [
      "\u001b[1;31m---------------------------------------------------------------------------\u001b[0m",
      "\u001b[1;31mNameError\u001b[0m                                 Traceback (most recent call last)",
      "\u001b[1;32m~\\AppData\\Local\\Temp/ipykernel_13068/3723490112.py\u001b[0m in \u001b[0;36m<module>\u001b[1;34m\u001b[0m\n\u001b[1;32m----> 1\u001b[1;33m \u001b[0ml\u001b[0m\u001b[1;33m\u001b[0m\u001b[1;33m\u001b[0m\u001b[0m\n\u001b[0m",
      "\u001b[1;31mNameError\u001b[0m: name 'l' is not defined"
     ]
    }
   ],
   "source": []
  },
  {
   "cell_type": "code",
   "execution_count": 59,
   "id": "b2eec23c",
   "metadata": {},
   "outputs": [],
   "source": [
    "class LetterFilter:\n",
    "\n",
    "    def __init__(self, s):\n",
    "        self.s = s\n",
    "        \n",
    "    def filter_vowels(self):\n",
    "        no_vowel = self.s\n",
    "        vowels = ('a', 'e', 'i', 'o', 'u')\n",
    "        for x in self.s:\n",
    "            if x in vowels:\n",
    "                no_vowel = no_vowel.replace(x,\"\")\n",
    "\n",
    "        return no_vowel\n",
    "\n",
    "    def filter_consonants(self):\n",
    "        no_con = self.s \n",
    "        vowels = ('a', 'e', 'i', 'o', 'u')\n",
    "        for x in self.s:\n",
    "            if x not in vowels: \n",
    "                no_con = no_con.replace(x,\"\")\n",
    "        return no_con"
   ]
  },
  {
   "cell_type": "code",
   "execution_count": 1,
   "id": "0c805110",
   "metadata": {},
   "outputs": [
    {
     "ename": "NameError",
     "evalue": "name 'LetterFilter' is not defined",
     "output_type": "error",
     "traceback": [
      "\u001b[1;31m---------------------------------------------------------------------------\u001b[0m",
      "\u001b[1;31mNameError\u001b[0m                                 Traceback (most recent call last)",
      "\u001b[1;32m~\\AppData\\Local\\Temp/ipykernel_12356/3193444117.py\u001b[0m in \u001b[0;36m<module>\u001b[1;34m\u001b[0m\n\u001b[1;32m----> 1\u001b[1;33m \u001b[0mx\u001b[0m \u001b[1;33m=\u001b[0m \u001b[0mLetterFilter\u001b[0m\u001b[1;33m(\u001b[0m\u001b[1;34m\"string\"\u001b[0m\u001b[1;33m)\u001b[0m\u001b[1;33m\u001b[0m\u001b[1;33m\u001b[0m\u001b[0m\n\u001b[0m\u001b[0;32m      2\u001b[0m \u001b[1;33m\u001b[0m\u001b[0m\n\u001b[0;32m      3\u001b[0m \u001b[0mx\u001b[0m\u001b[1;33m.\u001b[0m\u001b[0mfilter_vowels\u001b[0m\u001b[1;33m(\u001b[0m\u001b[1;33m)\u001b[0m\u001b[1;33m\u001b[0m\u001b[1;33m\u001b[0m\u001b[0m\n",
      "\u001b[1;31mNameError\u001b[0m: name 'LetterFilter' is not defined"
     ]
    }
   ],
   "source": [
    "x = LetterFilter(\"string\")\n",
    "\n",
    "x.filter_vowels()"
   ]
  },
  {
   "cell_type": "code",
   "execution_count": 2,
   "id": "33829c96",
   "metadata": {},
   "outputs": [
    {
     "ename": "NameError",
     "evalue": "name 'x' is not defined",
     "output_type": "error",
     "traceback": [
      "\u001b[1;31m---------------------------------------------------------------------------\u001b[0m",
      "\u001b[1;31mNameError\u001b[0m                                 Traceback (most recent call last)",
      "\u001b[1;32m~\\AppData\\Local\\Temp/ipykernel_12356/3962637975.py\u001b[0m in \u001b[0;36m<module>\u001b[1;34m\u001b[0m\n\u001b[1;32m----> 1\u001b[1;33m \u001b[0mx\u001b[0m\u001b[1;33m.\u001b[0m\u001b[0mfilter_consonants\u001b[0m\u001b[1;33m(\u001b[0m\u001b[1;33m)\u001b[0m\u001b[1;33m\u001b[0m\u001b[1;33m\u001b[0m\u001b[0m\n\u001b[0m",
      "\u001b[1;31mNameError\u001b[0m: name 'x' is not defined"
     ]
    }
   ],
   "source": [
    "x.filter_consonants()"
   ]
  },
  {
   "cell_type": "code",
   "execution_count": 3,
   "id": "fb870033",
   "metadata": {},
   "outputs": [],
   "source": [
    "def multiply(a, b, bound):\n",
    "    result = a * b \n",
    "    if result <= bound: \n",
    "        return result\n",
    "    else:\n",
    "        print(\"multiplication of %i and %i with bound %i not possible\" % (a,b,bound))\n",
    "    \n",
    "       "
   ]
  },
  {
   "cell_type": "code",
   "execution_count": 4,
   "id": "eb97f42a",
   "metadata": {},
   "outputs": [
    {
     "name": "stdout",
     "output_type": "stream",
     "text": [
      "multiplication of 5 and 2 with bound 4 not possible\n"
     ]
    }
   ],
   "source": [
    "multiply(5,2,4 )"
   ]
  },
  {
   "cell_type": "markdown",
   "id": "35bb98bb",
   "metadata": {},
   "source": [
    "# 8/9/22"
   ]
  },
  {
   "cell_type": "markdown",
   "id": "c2da8773",
   "metadata": {},
   "source": [
    "# 8/16/22"
   ]
  },
  {
   "cell_type": "code",
   "execution_count": null,
   "id": "c44d0561",
   "metadata": {},
   "outputs": [],
   "source": []
  }
 ],
 "metadata": {
  "kernelspec": {
   "display_name": "Python 3 (ipykernel)",
   "language": "python",
   "name": "python3"
  },
  "language_info": {
   "codemirror_mode": {
    "name": "ipython",
    "version": 3
   },
   "file_extension": ".py",
   "mimetype": "text/x-python",
   "name": "python",
   "nbconvert_exporter": "python",
   "pygments_lexer": "ipython3",
   "version": "3.9.7"
  }
 },
 "nbformat": 4,
 "nbformat_minor": 5
}
