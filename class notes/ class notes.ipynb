{
 "cells": [
  {
   "cell_type": "markdown",
   "id": "562a15ca",
   "metadata": {},
   "source": [
    "## 7/12/22 Class\n"
   ]
  },
  {
   "cell_type": "code",
   "execution_count": 5,
   "id": "44a36d30",
   "metadata": {},
   "outputs": [
    {
     "name": "stdout",
     "output_type": "stream",
     "text": [
      "True\n"
     ]
    }
   ],
   "source": [
    "if 5 < 6:\n",
    "    print(True)"
   ]
  },
  {
   "cell_type": "code",
   "execution_count": 6,
   "id": "6a93e7af",
   "metadata": {},
   "outputs": [
    {
     "data": {
      "text/plain": [
       "'STRING'"
      ]
     },
     "execution_count": 6,
     "metadata": {},
     "output_type": "execute_result"
    }
   ],
   "source": [
    "fox = \"string\"\n",
    "fox.upper()\n"
   ]
  },
  {
   "cell_type": "code",
   "execution_count": 7,
   "id": "01c89558",
   "metadata": {},
   "outputs": [
    {
     "name": "stdout",
     "output_type": "stream",
     "text": [
      "string\n"
     ]
    }
   ],
   "source": [
    "print(fox)\n"
   ]
  },
  {
   "cell_type": "code",
   "execution_count": 10,
   "id": "c72f833e",
   "metadata": {},
   "outputs": [
    {
     "data": {
      "text/plain": [
       "1"
      ]
     },
     "execution_count": 10,
     "metadata": {},
     "output_type": "execute_result"
    }
   ],
   "source": [
    "fox.find('t')"
   ]
  },
  {
   "cell_type": "code",
   "execution_count": null,
   "id": "d266ff81",
   "metadata": {},
   "outputs": [],
   "source": []
  },
  {
   "cell_type": "markdown",
   "id": "33e63f9a",
   "metadata": {},
   "source": [
    "# 7/19/22 Class"
   ]
  },
  {
   "cell_type": "code",
   "execution_count": 18,
   "id": "c091f230",
   "metadata": {},
   "outputs": [],
   "source": [
    "# Object Oriented Programing \n",
    "# variables / oop - fields\n",
    "# function / oop - methods \n",
    "# class - template for an object /blueprint \n",
    "# instantiation - instantiate - create an object from a class "
   ]
  },
  {
   "cell_type": "code",
   "execution_count": 23,
   "id": "6ea17e16",
   "metadata": {},
   "outputs": [],
   "source": [
    "# this is a constructor - def __init__ \n",
    "# the constructor tells us how to create an instance (object) of a class \n",
    "class Dog: \n",
    "    def __init__(self,breed,age,gender):\n",
    "        self.breed = breed\n",
    "        self.age = age\n",
    "        self.gender = gender \n",
    "        \n",
    "    def roll_over(self):\n",
    "        print(\"The dog rolls over\")"
   ]
  },
  {
   "cell_type": "code",
   "execution_count": 24,
   "id": "b984e342",
   "metadata": {},
   "outputs": [],
   "source": [
    "# instatiated a dog object \n",
    "terrier_one = Dog(\"terrier\",\"12\",\"F\")"
   ]
  },
  {
   "cell_type": "code",
   "execution_count": 25,
   "id": "e0960818",
   "metadata": {},
   "outputs": [
    {
     "data": {
      "text/plain": [
       "'F'"
      ]
     },
     "execution_count": 25,
     "metadata": {},
     "output_type": "execute_result"
    }
   ],
   "source": [
    "# terrier_one is an instance of the dog class \n",
    "terrier_one.gender"
   ]
  },
  {
   "cell_type": "code",
   "execution_count": 26,
   "id": "f5c05fab",
   "metadata": {},
   "outputs": [
    {
     "name": "stdout",
     "output_type": "stream",
     "text": [
      "The dog rolls over\n"
     ]
    }
   ],
   "source": [
    "terrier_one.roll_over()\n"
   ]
  },
  {
   "cell_type": "code",
   "execution_count": 6,
   "id": "1d4a85a5",
   "metadata": {
    "scrolled": true
   },
   "outputs": [
    {
     "name": "stdout",
     "output_type": "stream",
     "text": [
      "1\n",
      "&& \n",
      "&& \n"
     ]
    }
   ],
   "source": [
    "import re\n",
    "\n",
    "n = int(input())\n",
    "\n",
    "for i in range(n):\n",
    "    print(re.sub(r\"(?<= )(&&|\\|\\|)(?= )\", lambda x: \"and\" if x.group() == \"&&\" else \"or\", input()))\n",
    "    "
   ]
  },
  {
   "cell_type": "code",
   "execution_count": 14,
   "id": "3fa260aa",
   "metadata": {},
   "outputs": [
    {
     "name": "stdout",
     "output_type": "stream",
     "text": [
      "<re.Match object; span=(0, 1), match='<'>\n"
     ]
    }
   ],
   "source": [
    "import re\n",
    "n = 1\n",
    "\n",
    "x = \"todd <To9.@gmail.com>\"\n",
    "for i in range(n):\n",
    "    name, email = x.split(\" \") \n",
    "    # m = re.match(r\"<^[A-Za-z]*[\\w|-|\\.|_]+@[A-Za-z]+\\.[A-Za-z]{1,3}>\", email)\n",
    "    m = re.search(r\"[\\<]\",email)\n",
    "    print(m)\n"
   ]
  },
  {
   "cell_type": "code",
   "execution_count": 21,
   "id": "9a4239f1",
   "metadata": {},
   "outputs": [
    {
     "name": "stdout",
     "output_type": "stream",
     "text": [
      "2 1\n",
      "5 6\n",
      "7.00+7.00i\n",
      "-3.00-5.00i\n",
      "4.00+17.00i\n",
      "0.26-0.11i\n",
      "2.24+0.00i\n",
      "7.81+0.00i\n"
     ]
    }
   ],
   "source": [
    "import math\n",
    "\n",
    "class Complex(object):\n",
    "    def __init__(self, real, imaginary):\n",
    "        self.real = real\n",
    "        self.imaginary = imaginary\n",
    "\n",
    "    def __add__(self, no):\n",
    "        real = self.real + no.real\n",
    "        imaginary = self.imaginary + no.imaginary\n",
    "        return Complex(real, imaginary)\n",
    "\n",
    "    def __sub__(self, no):\n",
    "        real = self.real - no.real\n",
    "        imaginary = self.imaginary - no.imaginary\n",
    "        return Complex(real, imaginary)\n",
    "\n",
    "    def __mul__(self, no):\n",
    "        real = self.real * no.real - self.imaginary * no.imaginary\n",
    "        imaginary = self.real * no.imaginary + self.imaginary * no.real\n",
    "        return Complex(real, imaginary)\n",
    "\n",
    "    def __truediv__(self, no):\n",
    "        x = float(no.real ** 2 + no.imaginary ** 2)\n",
    "        y = self * Complex(no.real, -no.imaginary)\n",
    "        real = y.real / x\n",
    "        imaginary = y.imaginary / x\n",
    "        return Complex(real, imaginary)\n",
    "\n",
    "    def mod(self):\n",
    "        real = math.sqrt(self.real ** 2 + self.imaginary ** 2)\n",
    "        return Complex(real, 0)\n",
    "\n",
    "    def __str__(self):\n",
    "        if self.imaginary == 0:\n",
    "            result = \"%.2f+0.00i\" % (self.real)\n",
    "        elif self.real == 0:\n",
    "            if self.imaginary >= 0:\n",
    "                result = \"0.00+%.2fi\" % (self.imaginary)\n",
    "            else:\n",
    "                result = \"0.00-%.2fi\" % (abs(self.imaginary))\n",
    "        elif self.imaginary > 0:\n",
    "            result = \"%.2f+%.2fi\" % (self.real, self.imaginary)\n",
    "        else:\n",
    "            result = \"%.2f-%.2fi\" % (self.real, abs(self.imaginary))\n",
    "        return result\n",
    "\n",
    "\n",
    "C = map(float, input().split())\n",
    "D = map(float, input().split())\n",
    "x = Complex(*C)\n",
    "y = Complex(*D)\n",
    "print ('\\n'.join(map(str, [x+y, x-y, x*y, x/y, x.mod(), y.mod()])))\n",
    "\n",
    "\n"
   ]
  },
  {
   "cell_type": "code",
   "execution_count": null,
   "id": "0b492fe9",
   "metadata": {},
   "outputs": [],
   "source": []
  }
 ],
 "metadata": {
  "kernelspec": {
   "display_name": "Python 3 (ipykernel)",
   "language": "python",
   "name": "python3"
  },
  "language_info": {
   "codemirror_mode": {
    "name": "ipython",
    "version": 3
   },
   "file_extension": ".py",
   "mimetype": "text/x-python",
   "name": "python",
   "nbconvert_exporter": "python",
   "pygments_lexer": "ipython3",
   "version": "3.9.7"
  }
 },
 "nbformat": 4,
 "nbformat_minor": 5
}
